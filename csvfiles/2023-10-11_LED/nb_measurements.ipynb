{
 "cells": [
  {
   "cell_type": "code",
   "execution_count": 1,
   "metadata": {},
   "outputs": [],
   "source": [
    "import matplotlib.pyplot as plt\n",
    "import pandas as pd\n",
    "from sys import argv\n",
    "from pathlib import Path\n"
   ]
  },
  {
   "cell_type": "code",
   "execution_count": 2,
   "metadata": {},
   "outputs": [],
   "source": [
    "csv_files = ['20231013153958_pmt_measurements.csv', '20231013154405_pmt_measurements.csv', '20231013154751_pmt_measurements.csv', '20231013155242_pmt_measurements.csv']"
   ]
  },
  {
   "cell_type": "code",
   "execution_count": 3,
   "metadata": {},
   "outputs": [],
   "source": [
    "brand_dict = {\"ham\": \"Hamamatsu\", \"nnvt\" : \"NNVT\", \"NNVT\":\"NNVT\"}\n",
    "\n",
    "fname = csv_files[0]\n",
    "\n",
    "fdt = fname.split(\"_\")[0]\n",
    "\n",
    "df = pd.read_csv(fname)"
   ]
  },
  {
   "cell_type": "code",
   "execution_count": 4,
   "metadata": {},
   "outputs": [
    {
     "name": "stdout",
     "output_type": "stream",
     "text": [
      "nnvt_df\n",
      "                                               fname    chisqr          gain  \\\n",
      "0  /mnt/e/PMT_TEST/2023-10-11_LED/NNVT_PN2305-110...  0.013055  1.020086e+07   \n",
      "\n",
      "       pv_r     sigma    pe_res  \n",
      "0  3.944405  1.361743  4.051062  \n",
      "\n",
      "                                                   fname    chisqr  \\\n",
      "v                                                                    \n",
      "950.0  /mnt/e/PMT_TEST/2023-10-11_LED/NNVT_PN2305-110...  0.038322   \n",
      "\n",
      "               gain      pv_r     sigma    pe_res brand        model  \n",
      "v                                                                     \n",
      "950.0  5.913587e+06  1.751034  0.947228  3.046342  NNVT  PN2305-1100  \n"
     ]
    },
    {
     "ename": "MergeError",
     "evalue": "No common columns to perform merge on. Merge options: left_on=None, right_on=None, left_index=False, right_index=False",
     "output_type": "error",
     "traceback": [
      "\u001b[0;31m---------------------------------------------------------------------------\u001b[0m",
      "\u001b[0;31mMergeError\u001b[0m                                Traceback (most recent call last)",
      "\u001b[1;32m/home/hayashida/work/hyperk/pmt_test/pmtfitting_py/2023-10-11_LED/nb_measurements.ipynb Cell 4\u001b[0m line \u001b[0;36m3\n\u001b[1;32m     <a href='vscode-notebook-cell://wsl%2Bubuntu-22.04/home/hayashida/work/hyperk/pmt_test/pmtfitting_py/2023-10-11_LED/nb_measurements.ipynb#W3sdnNjb2RlLXJlbW90ZQ%3D%3D?line=32'>33</a>\u001b[0m \u001b[39mprint\u001b[39m(df)\n\u001b[1;32m     <a href='vscode-notebook-cell://wsl%2Bubuntu-22.04/home/hayashida/work/hyperk/pmt_test/pmtfitting_py/2023-10-11_LED/nb_measurements.ipynb#W3sdnNjb2RlLXJlbW90ZQ%3D%3D?line=33'>34</a>\u001b[0m \u001b[39m# Only get the same models for direct comparison\u001b[39;00m\n\u001b[0;32m---> <a href='vscode-notebook-cell://wsl%2Bubuntu-22.04/home/hayashida/work/hyperk/pmt_test/pmtfitting_py/2023-10-11_LED/nb_measurements.ipynb#W3sdnNjb2RlLXJlbW90ZQ%3D%3D?line=34'>35</a>\u001b[0m nnvt_df \u001b[39m=\u001b[39m pd\u001b[39m.\u001b[39;49mmerge(nnvt_df, df[\u001b[39m\"\u001b[39;49m\u001b[39mmodel\u001b[39;49m\u001b[39m\"\u001b[39;49m]\u001b[39m.\u001b[39;49mdrop_duplicates())\n\u001b[1;32m     <a href='vscode-notebook-cell://wsl%2Bubuntu-22.04/home/hayashida/work/hyperk/pmt_test/pmtfitting_py/2023-10-11_LED/nb_measurements.ipynb#W3sdnNjb2RlLXJlbW90ZQ%3D%3D?line=35'>36</a>\u001b[0m \u001b[39m# Add clarification in label\u001b[39;00m\n\u001b[1;32m     <a href='vscode-notebook-cell://wsl%2Bubuntu-22.04/home/hayashida/work/hyperk/pmt_test/pmtfitting_py/2023-10-11_LED/nb_measurements.ipynb#W3sdnNjb2RlLXJlbW90ZQ%3D%3D?line=36'>37</a>\u001b[0m nnvt_df[\u001b[39m\"\u001b[39m\u001b[39mmodel\u001b[39m\u001b[39m\"\u001b[39m] \u001b[39m=\u001b[39m nnvt_df[\u001b[39m\"\u001b[39m\u001b[39mmodel\u001b[39m\u001b[39m\"\u001b[39m]\u001b[39m.\u001b[39mapply(\u001b[39mlambda\u001b[39;00m x: x \u001b[39m+\u001b[39m \u001b[39m\"\u001b[39m\u001b[39m (NNVT)\u001b[39m\u001b[39m\"\u001b[39m)\n",
      "File \u001b[0;32m/usr/local/lib/python3.10/dist-packages/pandas/core/reshape/merge.py:148\u001b[0m, in \u001b[0;36mmerge\u001b[0;34m(left, right, how, on, left_on, right_on, left_index, right_index, sort, suffixes, copy, indicator, validate)\u001b[0m\n\u001b[1;32m    131\u001b[0m \u001b[39m@Substitution\u001b[39m(\u001b[39m\"\u001b[39m\u001b[39m\\n\u001b[39;00m\u001b[39mleft : DataFrame or named Series\u001b[39m\u001b[39m\"\u001b[39m)\n\u001b[1;32m    132\u001b[0m \u001b[39m@Appender\u001b[39m(_merge_doc, indents\u001b[39m=\u001b[39m\u001b[39m0\u001b[39m)\n\u001b[1;32m    133\u001b[0m \u001b[39mdef\u001b[39;00m \u001b[39mmerge\u001b[39m(\n\u001b[0;32m   (...)\u001b[0m\n\u001b[1;32m    146\u001b[0m     validate: \u001b[39mstr\u001b[39m \u001b[39m|\u001b[39m \u001b[39mNone\u001b[39;00m \u001b[39m=\u001b[39m \u001b[39mNone\u001b[39;00m,\n\u001b[1;32m    147\u001b[0m ) \u001b[39m-\u001b[39m\u001b[39m>\u001b[39m DataFrame:\n\u001b[0;32m--> 148\u001b[0m     op \u001b[39m=\u001b[39m _MergeOperation(\n\u001b[1;32m    149\u001b[0m         left,\n\u001b[1;32m    150\u001b[0m         right,\n\u001b[1;32m    151\u001b[0m         how\u001b[39m=\u001b[39;49mhow,\n\u001b[1;32m    152\u001b[0m         on\u001b[39m=\u001b[39;49mon,\n\u001b[1;32m    153\u001b[0m         left_on\u001b[39m=\u001b[39;49mleft_on,\n\u001b[1;32m    154\u001b[0m         right_on\u001b[39m=\u001b[39;49mright_on,\n\u001b[1;32m    155\u001b[0m         left_index\u001b[39m=\u001b[39;49mleft_index,\n\u001b[1;32m    156\u001b[0m         right_index\u001b[39m=\u001b[39;49mright_index,\n\u001b[1;32m    157\u001b[0m         sort\u001b[39m=\u001b[39;49msort,\n\u001b[1;32m    158\u001b[0m         suffixes\u001b[39m=\u001b[39;49msuffixes,\n\u001b[1;32m    159\u001b[0m         indicator\u001b[39m=\u001b[39;49mindicator,\n\u001b[1;32m    160\u001b[0m         validate\u001b[39m=\u001b[39;49mvalidate,\n\u001b[1;32m    161\u001b[0m     )\n\u001b[1;32m    162\u001b[0m     \u001b[39mreturn\u001b[39;00m op\u001b[39m.\u001b[39mget_result(copy\u001b[39m=\u001b[39mcopy)\n",
      "File \u001b[0;32m/usr/local/lib/python3.10/dist-packages/pandas/core/reshape/merge.py:719\u001b[0m, in \u001b[0;36m_MergeOperation.__init__\u001b[0;34m(self, left, right, how, on, left_on, right_on, axis, left_index, right_index, sort, suffixes, indicator, validate)\u001b[0m\n\u001b[1;32m    712\u001b[0m     msg \u001b[39m=\u001b[39m (\n\u001b[1;32m    713\u001b[0m         \u001b[39m\"\u001b[39m\u001b[39mNot allowed to merge between different levels. \u001b[39m\u001b[39m\"\u001b[39m\n\u001b[1;32m    714\u001b[0m         \u001b[39mf\u001b[39m\u001b[39m\"\u001b[39m\u001b[39m(\u001b[39m\u001b[39m{\u001b[39;00m_left\u001b[39m.\u001b[39mcolumns\u001b[39m.\u001b[39mnlevels\u001b[39m}\u001b[39;00m\u001b[39m levels on the left, \u001b[39m\u001b[39m\"\u001b[39m\n\u001b[1;32m    715\u001b[0m         \u001b[39mf\u001b[39m\u001b[39m\"\u001b[39m\u001b[39m{\u001b[39;00m_right\u001b[39m.\u001b[39mcolumns\u001b[39m.\u001b[39mnlevels\u001b[39m}\u001b[39;00m\u001b[39m on the right)\u001b[39m\u001b[39m\"\u001b[39m\n\u001b[1;32m    716\u001b[0m     )\n\u001b[1;32m    717\u001b[0m     \u001b[39mraise\u001b[39;00m MergeError(msg)\n\u001b[0;32m--> 719\u001b[0m \u001b[39mself\u001b[39m\u001b[39m.\u001b[39mleft_on, \u001b[39mself\u001b[39m\u001b[39m.\u001b[39mright_on \u001b[39m=\u001b[39m \u001b[39mself\u001b[39;49m\u001b[39m.\u001b[39;49m_validate_left_right_on(left_on, right_on)\n\u001b[1;32m    721\u001b[0m cross_col \u001b[39m=\u001b[39m \u001b[39mNone\u001b[39;00m\n\u001b[1;32m    722\u001b[0m \u001b[39mif\u001b[39;00m \u001b[39mself\u001b[39m\u001b[39m.\u001b[39mhow \u001b[39m==\u001b[39m \u001b[39m\"\u001b[39m\u001b[39mcross\u001b[39m\u001b[39m\"\u001b[39m:\n",
      "File \u001b[0;32m/usr/local/lib/python3.10/dist-packages/pandas/core/reshape/merge.py:1500\u001b[0m, in \u001b[0;36m_MergeOperation._validate_left_right_on\u001b[0;34m(self, left_on, right_on)\u001b[0m\n\u001b[1;32m   1498\u001b[0m common_cols \u001b[39m=\u001b[39m left_cols\u001b[39m.\u001b[39mintersection(right_cols)\n\u001b[1;32m   1499\u001b[0m \u001b[39mif\u001b[39;00m \u001b[39mlen\u001b[39m(common_cols) \u001b[39m==\u001b[39m \u001b[39m0\u001b[39m:\n\u001b[0;32m-> 1500\u001b[0m     \u001b[39mraise\u001b[39;00m MergeError(\n\u001b[1;32m   1501\u001b[0m         \u001b[39m\"\u001b[39m\u001b[39mNo common columns to perform merge on. \u001b[39m\u001b[39m\"\u001b[39m\n\u001b[1;32m   1502\u001b[0m         \u001b[39mf\u001b[39m\u001b[39m\"\u001b[39m\u001b[39mMerge options: left_on=\u001b[39m\u001b[39m{\u001b[39;00mleft_on\u001b[39m}\u001b[39;00m\u001b[39m, \u001b[39m\u001b[39m\"\u001b[39m\n\u001b[1;32m   1503\u001b[0m         \u001b[39mf\u001b[39m\u001b[39m\"\u001b[39m\u001b[39mright_on=\u001b[39m\u001b[39m{\u001b[39;00mright_on\u001b[39m}\u001b[39;00m\u001b[39m, \u001b[39m\u001b[39m\"\u001b[39m\n\u001b[1;32m   1504\u001b[0m         \u001b[39mf\u001b[39m\u001b[39m\"\u001b[39m\u001b[39mleft_index=\u001b[39m\u001b[39m{\u001b[39;00m\u001b[39mself\u001b[39m\u001b[39m.\u001b[39mleft_index\u001b[39m}\u001b[39;00m\u001b[39m, \u001b[39m\u001b[39m\"\u001b[39m\n\u001b[1;32m   1505\u001b[0m         \u001b[39mf\u001b[39m\u001b[39m\"\u001b[39m\u001b[39mright_index=\u001b[39m\u001b[39m{\u001b[39;00m\u001b[39mself\u001b[39m\u001b[39m.\u001b[39mright_index\u001b[39m}\u001b[39;00m\u001b[39m\"\u001b[39m\n\u001b[1;32m   1506\u001b[0m     )\n\u001b[1;32m   1507\u001b[0m \u001b[39mif\u001b[39;00m (\n\u001b[1;32m   1508\u001b[0m     \u001b[39mnot\u001b[39;00m left_cols\u001b[39m.\u001b[39mjoin(common_cols, how\u001b[39m=\u001b[39m\u001b[39m\"\u001b[39m\u001b[39minner\u001b[39m\u001b[39m\"\u001b[39m)\u001b[39m.\u001b[39mis_unique\n\u001b[1;32m   1509\u001b[0m     \u001b[39mor\u001b[39;00m \u001b[39mnot\u001b[39;00m right_cols\u001b[39m.\u001b[39mjoin(common_cols, how\u001b[39m=\u001b[39m\u001b[39m\"\u001b[39m\u001b[39minner\u001b[39m\u001b[39m\"\u001b[39m)\u001b[39m.\u001b[39mis_unique\n\u001b[1;32m   1510\u001b[0m ):\n\u001b[1;32m   1511\u001b[0m     \u001b[39mraise\u001b[39;00m MergeError(\u001b[39mf\u001b[39m\u001b[39m\"\u001b[39m\u001b[39mData columns not unique: \u001b[39m\u001b[39m{\u001b[39;00m\u001b[39mrepr\u001b[39m(common_cols)\u001b[39m}\u001b[39;00m\u001b[39m\"\u001b[39m)\n",
      "\u001b[0;31mMergeError\u001b[0m: No common columns to perform merge on. Merge options: left_on=None, right_on=None, left_index=False, right_index=False"
     ]
    }
   ],
   "source": [
    "# Assumes standarde file naming format\n",
    "def get_v_from_fname(row):\n",
    "    base = Path(row[\"fname\"]).stem\n",
    "\n",
    "    # Get brand model and voltage from filename\n",
    "    brand, model, voltage = base.split(\"_\")\n",
    "    brand = brand_dict[brand]\n",
    "    # Get rid of \"v\" in string if there\n",
    "    if voltage[-1] == \"v\":\n",
    "        voltage = voltage[:-1]\n",
    "    return brand, model, float(voltage)\n",
    "\n",
    "# Expand here means when apply returns multiple values, they get assigned to\n",
    "# each given new column\n",
    "df[[\"brand\",\"model\",\"v\"]] = df.apply(get_v_from_fname, axis=\"columns\",\n",
    "    result_type=\"expand\")\n",
    "\n",
    "# Sort so V is in order\n",
    "df = df.sort_values([\"v\",\"fname\"], ascending=True)\n",
    "df = df.set_index(\"v\")\n",
    "\n",
    "# Group by the model and plot each value\n",
    "df_group = df.groupby(\"model\")\n",
    "\n",
    "# Get the NNVT measurements if given\n",
    "if len(csv_files) > 2:\n",
    "    nnvt_fname = csv_files[2]\n",
    "    nnvt_df = pd.read_csv(nnvt_fname)\n",
    "\n",
    "    print('nnvt_df')\n",
    "    print(nnvt_df)\n",
    "    print()\n",
    "    print(df)\n",
    "    df['model'].drop_duplicates()\n",
    "    print(df)\n",
    "    # Only get the same models for direct comparison\n",
    "    nnvt_df = pd.merge(nnvt_df, df[\"model\"].drop_duplicates())\n",
    "    # Add clarification in label\n",
    "    nnvt_df[\"model\"] = nnvt_df[\"model\"].apply(lambda x: x + \" (NNVT)\")\n",
    "    nnvt_df = nnvt_df.sort_values([\"v\",\"model\"], ascending=True)\n",
    "    nnvt_df = nnvt_df.set_index(\"v\")\n",
    "\n",
    "    # Given in units of 1e7\n",
    "    nnvt_df[\"gain\"] *= 1e7\n",
    "    nnvt_df_group = nnvt_df.groupby(\"model\")\n",
    "\n",
    "plot_cols = {\n",
    "    \"gain\" : \"Gain\", \n",
    "    \"chisqr\" : r\"$\\chi^2$\", \n",
    "    \"pv_r\" : \"Peak-Valley Ratio\", \n",
    "    \"sigma\" : r\"$\\sigma$\", \n",
    "    \"pe_res\" : \"PE Resolution\"\n",
    "}\n",
    "\n",
    "# List of values to be log-plotted\n",
    "logs = [\n",
    "    \"chisqr\"\n",
    "]\n",
    "\n",
    "# Marker size is a bit small by default\n",
    "msize = 15\n",
    "\n",
    "fontsize = 15\n",
    "\n",
    "for key,value in plot_cols.items():\n",
    "    fig, ax = plt.subplots()\n",
    "    \n",
    "    # Cycle through grouped df plotting each PMT\n",
    "    for pmt,df_pmt in df_group:\n",
    "        ax.plot(df_pmt[key], label=pmt, marker=\".\", markersize=msize)\n",
    "\n",
    "    if len(argv) > 2:\n",
    "        try:\n",
    "            # Same for NNVT df, if it has the info\n",
    "            for pmt,df_pmt in nnvt_df_group:\n",
    "                ax.plot(df_pmt[key], label=pmt, marker=\".\", markersize=msize)\n",
    "        except:\n",
    "            print(f\"{key} not in NNVT data. Won't plot\")\n",
    "\n",
    "    # Log it if set to\n",
    "    if key in logs:\n",
    "        ax.set_yscale(\"log\")\n",
    "\n",
    "    ax.legend(fontsize=fontsize)\n",
    "    ax.set_xlabel(\"Voltage [V]\",fontsize=fontsize)\n",
    "    ax.set_ylabel(value, fontsize=fontsize)\n",
    "\n",
    "    fig.set_size_inches(14,8)\n",
    "\n",
    "    fig.savefig(f\"{fdt}_{key}.pdf\")\n",
    "\n",
    "plt.show()"
   ]
  }
 ],
 "metadata": {
  "kernelspec": {
   "display_name": "Python 3",
   "language": "python",
   "name": "python3"
  },
  "language_info": {
   "codemirror_mode": {
    "name": "ipython",
    "version": 3
   },
   "file_extension": ".py",
   "mimetype": "text/x-python",
   "name": "python",
   "nbconvert_exporter": "python",
   "pygments_lexer": "ipython3",
   "version": "3.10.12"
  }
 },
 "nbformat": 4,
 "nbformat_minor": 2
}
